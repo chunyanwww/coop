{
 "cells": [
  {
   "cell_type": "markdown",
   "id": "3ba91bad",
   "metadata": {},
   "source": [
    "# EDA of Retention Dataset"
   ]
  },
  {
   "cell_type": "markdown",
   "id": "724b15c0",
   "metadata": {},
   "source": [
    "## Objective"
   ]
  },
  {
   "cell_type": "markdown",
   "id": "bd42b377-48dc-4eff-91d8-b456dc1c9b04",
   "metadata": {},
   "source": [
    "To conduct an initial exploratory analysis to identify potential factors associated with retention, using correlation, chi square test and regression. The goal is to identify early warning signs and potential intervention points."
   ]
  },
  {
   "cell_type": "markdown",
   "id": "fd68b2e6-cf19-458d-a7a5-eff8d696f3ff",
   "metadata": {},
   "source": [
    "## Summary"
   ]
  },
  {
   "cell_type": "markdown",
   "id": "e2e20490-d892-4fee-a46b-a961d1b06e8e",
   "metadata": {},
   "source": [
    "-Gap is a strong predictor of dropout, with a highly significant effect. However, students with \"gap = 0\" have over 80% dropout rate, which shows possible immediate dropout.\n",
    "\n",
    "-Faculty differences are notable. Some programs, like Dentistry, Computer Science, Engineering, Health, and Management, have lower risk of dropout.\n",
    "\n",
    "-Some academic and demographic factors, like switching to part time, low grades, csrde are also associated with dropout risk.\n",
    "\n",
    "-Live in residence and urban background show better retention."
   ]
  },
  {
   "cell_type": "markdown",
   "id": "ace5abba",
   "metadata": {},
   "source": [
    "## Dataset Overview"
   ]
  },
  {
   "cell_type": "markdown",
   "id": "c95251fe",
   "metadata": {},
   "source": [
    "-This dataset contains 909,616 rows and 64 columns.\n",
    "\n",
    "-It includes attributes such as academic year, faculty, and country.\n",
    "\n",
    "-The key target variable is 'has_dropped', indicating whether a student dropped out."
   ]
  },
  {
   "cell_type": "code",
   "execution_count": 32,
   "id": "5c7f7fec",
   "metadata": {},
   "outputs": [],
   "source": [
    "import pandas as pd\n",
    "import numpy as np\n",
    "import matplotlib.pyplot as plt\n",
    "import seaborn as sns\n",
    "from spicy import stats\n",
    "from scipy.stats import chi2_contingency\n",
    "from scipy.stats import ttest_ind\n",
    "import statsmodels.formula.api as smf"
   ]
  },
  {
   "cell_type": "code",
   "execution_count": 33,
   "id": "c0c63022-0ed2-412f-bd09-f25616cc6b05",
   "metadata": {},
   "outputs": [
    {
     "name": "stderr",
     "output_type": "stream",
     "text": [
      "C:\\Users\\admin_2025\\AppData\\Local\\Temp\\ipykernel_16436\\3678092571.py:1: DtypeWarning: Columns (34,45,53) have mixed types. Specify dtype option on import or set low_memory=False.\n",
      "  df = pd.read_csv('enrollment_refactored.csv')\n"
     ]
    }
   ],
   "source": [
    "df = pd.read_csv('enrollment_refactored.csv')"
   ]
  },
  {
   "cell_type": "code",
   "execution_count": 34,
   "id": "b947d4af",
   "metadata": {},
   "outputs": [
    {
     "data": {
      "text/plain": [
       "(909616, 64)"
      ]
     },
     "execution_count": 34,
     "metadata": {},
     "output_type": "execute_result"
    }
   ],
   "source": [
    "df.shape"
   ]
  },
  {
   "cell_type": "code",
   "execution_count": 35,
   "id": "f7e6aaa7-238f-4bbd-a6bb-eace12bc04e7",
   "metadata": {},
   "outputs": [
    {
     "data": {
      "application/vnd.microsoft.datawrangler.viewer.v0+json": {
       "columns": [
        {
         "name": "index",
         "rawType": "int64",
         "type": "integer"
        },
        {
         "name": "banner_id",
         "rawType": "object",
         "type": "string"
        },
        {
         "name": "pidm",
         "rawType": "float64",
         "type": "float"
        },
        {
         "name": "admit_term_key",
         "rawType": "int64",
         "type": "integer"
        },
        {
         "name": "term_code",
         "rawType": "float64",
         "type": "float"
        },
        {
         "name": "academic_year",
         "rawType": "int64",
         "type": "integer"
        },
        {
         "name": "faculty_title",
         "rawType": "object",
         "type": "string"
        },
        {
         "name": "levl_desc",
         "rawType": "object",
         "type": "string"
        },
        {
         "name": "level_group",
         "rawType": "object",
         "type": "string"
        },
        {
         "name": "degree_desc",
         "rawType": "object",
         "type": "string"
        },
        {
         "name": "program_desc",
         "rawType": "object",
         "type": "string"
        },
        {
         "name": "total_credit_hours",
         "rawType": "float64",
         "type": "float"
        },
        {
         "name": "time_status_code",
         "rawType": "object",
         "type": "string"
        },
        {
         "name": "overall_tgpa_eot",
         "rawType": "float64",
         "type": "float"
        },
        {
         "name": "varsity_ind",
         "rawType": "int64",
         "type": "integer"
        },
        {
         "name": "class_desc",
         "rawType": "object",
         "type": "string"
        },
        {
         "name": "age",
         "rawType": "float64",
         "type": "float"
        },
        {
         "name": "country_desc",
         "rawType": "object",
         "type": "string"
        },
        {
         "name": "province_desc",
         "rawType": "object",
         "type": "string"
        },
        {
         "name": "major",
         "rawType": "object",
         "type": "string"
        },
        {
         "name": "major_desc",
         "rawType": "object",
         "type": "string"
        },
        {
         "name": "geo_region_desc",
         "rawType": "object",
         "type": "string"
        },
        {
         "name": "coop_ind",
         "rawType": "int64",
         "type": "integer"
        },
        {
         "name": "csrde_ind",
         "rawType": "int64",
         "type": "integer"
        },
        {
         "name": "next_term_code",
         "rawType": "float64",
         "type": "float"
        },
        {
         "name": "gap",
         "rawType": "float64",
         "type": "float"
        },
        {
         "name": "cohort_term",
         "rawType": "int64",
         "type": "integer"
        },
        {
         "name": "cohort_faculty",
         "rawType": "object",
         "type": "string"
        },
        {
         "name": "cohort_degree",
         "rawType": "object",
         "type": "string"
        },
        {
         "name": "cohort_term_dal",
         "rawType": "int64",
         "type": "integer"
        },
        {
         "name": "cohort_faculty_dal",
         "rawType": "object",
         "type": "string"
        },
        {
         "name": "cohort_degree_dal",
         "rawType": "object",
         "type": "string"
        },
        {
         "name": "terms_since_admit",
         "rawType": "int64",
         "type": "integer"
        },
        {
         "name": "years_since_admit",
         "rawType": "float64",
         "type": "float"
        },
        {
         "name": "switched_to_part_time",
         "rawType": "int64",
         "type": "integer"
        },
        {
         "name": "second_choice_major",
         "rawType": "object",
         "type": "unknown"
        },
        {
         "name": "female",
         "rawType": "float64",
         "type": "float"
        },
        {
         "name": "racialized_person",
         "rawType": "float64",
         "type": "float"
        },
        {
         "name": "aboriginal_and_indigenous",
         "rawType": "float64",
         "type": "float"
        },
        {
         "name": "person_with_disabilities",
         "rawType": "float64",
         "type": "float"
        },
        {
         "name": "sexual_orientation_gender_identity_minorities",
         "rawType": "float64",
         "type": "float"
        },
        {
         "name": "black_ancestry",
         "rawType": "float64",
         "type": "float"
        },
        {
         "name": "black_nova_scotian_ancestry",
         "rawType": "float64",
         "type": "float"
        },
        {
         "name": "mikmaq",
         "rawType": "float64",
         "type": "float"
        },
        {
         "name": "first_in_family",
         "rawType": "float64",
         "type": "float"
        },
        {
         "name": "international",
         "rawType": "float64",
         "type": "float"
        },
        {
         "name": "household_income",
         "rawType": "object",
         "type": "unknown"
        },
        {
         "name": "english_mother_tongue",
         "rawType": "float64",
         "type": "float"
        },
        {
         "name": "gender",
         "rawType": "object",
         "type": "string"
        },
        {
         "name": "urban_rural",
         "rawType": "object",
         "type": "string"
        },
        {
         "name": "is_local_to_agriculture_campus",
         "rawType": "float64",
         "type": "float"
        },
        {
         "name": "is_local_to_dalhousie_campus",
         "rawType": "float64",
         "type": "float"
        },
        {
         "name": "fall_gpa",
         "rawType": "float64",
         "type": "float"
        },
        {
         "name": "high_school_gpa",
         "rawType": "float64",
         "type": "float"
        },
        {
         "name": "high_school_grad_date",
         "rawType": "object",
         "type": "unknown"
        },
        {
         "name": "lived_in_residence_once",
         "rawType": "int64",
         "type": "integer"
        },
        {
         "name": "is_graduated_ind",
         "rawType": "int64",
         "type": "integer"
        },
        {
         "name": "high_school_rank",
         "rawType": "object",
         "type": "unknown"
        },
        {
         "name": "term",
         "rawType": "object",
         "type": "string"
        },
        {
         "name": "calendar_year",
         "rawType": "int64",
         "type": "integer"
        },
        {
         "name": "has_dropped",
         "rawType": "int64",
         "type": "integer"
        },
        {
         "name": "count_of_high_risk_low_grades",
         "rawType": "int64",
         "type": "integer"
        },
        {
         "name": "count_of_high_risk_withdrawals",
         "rawType": "int64",
         "type": "integer"
        },
        {
         "name": "cum_high_risk_low_grades",
         "rawType": "int64",
         "type": "integer"
        },
        {
         "name": "cum_high_risk_withdrawals",
         "rawType": "int64",
         "type": "integer"
        }
       ],
       "conversionMethod": "pd.DataFrame",
       "ref": "c6ec7f09-3654-4e3e-b52f-707b7bbc2e17",
       "rows": [
        [
         "0",
         "B00001071",
         "1071.0",
         "199920",
         "200020.0",
         "2000",
         "Faculty of Management",
         "Graduate",
         "Masters",
         "Master of Business Admin",
         "Master of Business Admin",
         "3.0",
         "PT",
         "0.0",
         "0",
         "Earned Hours (0-29)",
         "40.0",
         "CANADA",
         "New Brunswick",
         "FINS",
         "Financial Services",
         "Canada",
         "0",
         "0",
         "200220.0",
         "6.0",
         "199920",
         "Faculty of Management",
         "Master of Business Admin",
         "199920",
         "Faculty of Management",
         "Master of Business Admin",
         "0",
         "0.0",
         "0",
         null,
         "0.0",
         null,
         null,
         null,
         null,
         null,
         null,
         null,
         null,
         "0.0",
         null,
         null,
         "Male",
         "urban",
         "0.0",
         "0.0",
         null,
         "78.21",
         null,
         "0",
         "0",
         null,
         "Winter",
         "2000",
         "0",
         "0",
         "0",
         "0",
         "0"
        ],
        [
         "1",
         "B00001071",
         "1071.0",
         "199920",
         "200220.0",
         "2002",
         "Faculty of Management",
         "Graduate",
         "Masters",
         "Master of Business Admin",
         "Master of Business Admin",
         "3.0",
         "PT",
         "0.0",
         "0",
         "Earned Hours (0-29)",
         "40.0",
         "CANADA",
         "New Brunswick",
         "FINS",
         "Financial Services",
         "Canada",
         "0",
         "0",
         "200310.0",
         "2.0",
         "199920",
         "Faculty of Management",
         "Master of Business Admin",
         "199920",
         "Faculty of Management",
         "Master of Business Admin",
         "1",
         "0.5",
         "0",
         null,
         "0.0",
         null,
         null,
         null,
         null,
         null,
         null,
         null,
         null,
         "0.0",
         null,
         null,
         "Male",
         "urban",
         "0.0",
         "0.0",
         null,
         "78.21",
         null,
         "0",
         "0",
         null,
         "Winter",
         "2002",
         "0",
         "0",
         "0",
         "0",
         "0"
        ],
        [
         "2",
         "B00001071",
         "1071.0",
         "199920",
         "200310.0",
         "2003",
         "Faculty of Management",
         "Graduate",
         "Masters",
         "Master of Business Admin",
         "Master of Business Admin",
         "3.0",
         "PT",
         "0.0",
         "0",
         "Earned Hours (0-29)",
         "40.0",
         "CANADA",
         "New Brunswick",
         "FINS",
         "Financial Services",
         "Canada",
         "0",
         "0",
         "200410.0",
         "3.0",
         "199920",
         "Faculty of Management",
         "Master of Business Admin",
         "199920",
         "Faculty of Management",
         "Master of Business Admin",
         "2",
         "1.0",
         "0",
         null,
         "0.0",
         null,
         null,
         null,
         null,
         null,
         null,
         null,
         null,
         "0.0",
         null,
         null,
         "Male",
         "urban",
         "0.0",
         "0.0",
         "0.0",
         "78.21",
         null,
         "0",
         "0",
         null,
         "Fall",
         "2002",
         "0",
         "0",
         "0",
         "0",
         "0"
        ],
        [
         "3",
         "B00001071",
         "1071.0",
         "199920",
         "200410.0",
         "2004",
         "Faculty of Management",
         "Graduate",
         "Masters",
         "Master of Business Admin",
         "Master of Business Admin",
         "3.0",
         "PT",
         "0.0",
         "0",
         "Earned Hours (0-29)",
         "41.0",
         "CANADA",
         "New Brunswick",
         "FINS",
         "Financial Services",
         "Canada",
         "0",
         "0",
         "200420.0",
         "1.0",
         "199920",
         "Faculty of Management",
         "Master of Business Admin",
         "199920",
         "Faculty of Management",
         "Master of Business Admin",
         "3",
         "1.5",
         "0",
         null,
         "0.0",
         null,
         null,
         null,
         null,
         null,
         null,
         null,
         null,
         "0.0",
         null,
         null,
         "Male",
         "urban",
         "0.0",
         "0.0",
         "0.0",
         "78.21",
         null,
         "0",
         "0",
         null,
         "Fall",
         "2003",
         "0",
         "0",
         "0",
         "0",
         "0"
        ],
        [
         "4",
         "B00001071",
         "1071.0",
         "199920",
         "200420.0",
         "2004",
         "Faculty of Management",
         "Graduate",
         "Masters",
         "Master of Business Admin",
         "Master of Business Admin",
         "3.0",
         "PT",
         "0.0",
         "0",
         "Earned Hours (0-29)",
         "41.0",
         "CANADA",
         "New Brunswick",
         "FINS",
         "Financial Services",
         "Canada",
         "0",
         "0",
         "200530.0",
         "4.0",
         "199920",
         "Faculty of Management",
         "Master of Business Admin",
         "199920",
         "Faculty of Management",
         "Master of Business Admin",
         "4",
         "2.0",
         "0",
         null,
         "0.0",
         null,
         null,
         null,
         null,
         null,
         null,
         null,
         null,
         "0.0",
         null,
         null,
         "Male",
         "urban",
         "0.0",
         "0.0",
         "0.0",
         "78.21",
         null,
         "0",
         "0",
         null,
         "Winter",
         "2004",
         "0",
         "0",
         "0",
         "0",
         "0"
        ]
       ],
       "shape": {
        "columns": 64,
        "rows": 5
       }
      },
      "text/html": [
       "<div>\n",
       "<style scoped>\n",
       "    .dataframe tbody tr th:only-of-type {\n",
       "        vertical-align: middle;\n",
       "    }\n",
       "\n",
       "    .dataframe tbody tr th {\n",
       "        vertical-align: top;\n",
       "    }\n",
       "\n",
       "    .dataframe thead th {\n",
       "        text-align: right;\n",
       "    }\n",
       "</style>\n",
       "<table border=\"1\" class=\"dataframe\">\n",
       "  <thead>\n",
       "    <tr style=\"text-align: right;\">\n",
       "      <th></th>\n",
       "      <th>banner_id</th>\n",
       "      <th>pidm</th>\n",
       "      <th>admit_term_key</th>\n",
       "      <th>term_code</th>\n",
       "      <th>academic_year</th>\n",
       "      <th>faculty_title</th>\n",
       "      <th>levl_desc</th>\n",
       "      <th>level_group</th>\n",
       "      <th>degree_desc</th>\n",
       "      <th>program_desc</th>\n",
       "      <th>...</th>\n",
       "      <th>lived_in_residence_once</th>\n",
       "      <th>is_graduated_ind</th>\n",
       "      <th>high_school_rank</th>\n",
       "      <th>term</th>\n",
       "      <th>calendar_year</th>\n",
       "      <th>has_dropped</th>\n",
       "      <th>count_of_high_risk_low_grades</th>\n",
       "      <th>count_of_high_risk_withdrawals</th>\n",
       "      <th>cum_high_risk_low_grades</th>\n",
       "      <th>cum_high_risk_withdrawals</th>\n",
       "    </tr>\n",
       "  </thead>\n",
       "  <tbody>\n",
       "    <tr>\n",
       "      <th>0</th>\n",
       "      <td>B00001071</td>\n",
       "      <td>1071.0</td>\n",
       "      <td>199920</td>\n",
       "      <td>200020.0</td>\n",
       "      <td>2000</td>\n",
       "      <td>Faculty of Management</td>\n",
       "      <td>Graduate</td>\n",
       "      <td>Masters</td>\n",
       "      <td>Master of Business Admin</td>\n",
       "      <td>Master of Business Admin</td>\n",
       "      <td>...</td>\n",
       "      <td>0</td>\n",
       "      <td>0</td>\n",
       "      <td>NaN</td>\n",
       "      <td>Winter</td>\n",
       "      <td>2000</td>\n",
       "      <td>0</td>\n",
       "      <td>0</td>\n",
       "      <td>0</td>\n",
       "      <td>0</td>\n",
       "      <td>0</td>\n",
       "    </tr>\n",
       "    <tr>\n",
       "      <th>1</th>\n",
       "      <td>B00001071</td>\n",
       "      <td>1071.0</td>\n",
       "      <td>199920</td>\n",
       "      <td>200220.0</td>\n",
       "      <td>2002</td>\n",
       "      <td>Faculty of Management</td>\n",
       "      <td>Graduate</td>\n",
       "      <td>Masters</td>\n",
       "      <td>Master of Business Admin</td>\n",
       "      <td>Master of Business Admin</td>\n",
       "      <td>...</td>\n",
       "      <td>0</td>\n",
       "      <td>0</td>\n",
       "      <td>NaN</td>\n",
       "      <td>Winter</td>\n",
       "      <td>2002</td>\n",
       "      <td>0</td>\n",
       "      <td>0</td>\n",
       "      <td>0</td>\n",
       "      <td>0</td>\n",
       "      <td>0</td>\n",
       "    </tr>\n",
       "    <tr>\n",
       "      <th>2</th>\n",
       "      <td>B00001071</td>\n",
       "      <td>1071.0</td>\n",
       "      <td>199920</td>\n",
       "      <td>200310.0</td>\n",
       "      <td>2003</td>\n",
       "      <td>Faculty of Management</td>\n",
       "      <td>Graduate</td>\n",
       "      <td>Masters</td>\n",
       "      <td>Master of Business Admin</td>\n",
       "      <td>Master of Business Admin</td>\n",
       "      <td>...</td>\n",
       "      <td>0</td>\n",
       "      <td>0</td>\n",
       "      <td>NaN</td>\n",
       "      <td>Fall</td>\n",
       "      <td>2002</td>\n",
       "      <td>0</td>\n",
       "      <td>0</td>\n",
       "      <td>0</td>\n",
       "      <td>0</td>\n",
       "      <td>0</td>\n",
       "    </tr>\n",
       "    <tr>\n",
       "      <th>3</th>\n",
       "      <td>B00001071</td>\n",
       "      <td>1071.0</td>\n",
       "      <td>199920</td>\n",
       "      <td>200410.0</td>\n",
       "      <td>2004</td>\n",
       "      <td>Faculty of Management</td>\n",
       "      <td>Graduate</td>\n",
       "      <td>Masters</td>\n",
       "      <td>Master of Business Admin</td>\n",
       "      <td>Master of Business Admin</td>\n",
       "      <td>...</td>\n",
       "      <td>0</td>\n",
       "      <td>0</td>\n",
       "      <td>NaN</td>\n",
       "      <td>Fall</td>\n",
       "      <td>2003</td>\n",
       "      <td>0</td>\n",
       "      <td>0</td>\n",
       "      <td>0</td>\n",
       "      <td>0</td>\n",
       "      <td>0</td>\n",
       "    </tr>\n",
       "    <tr>\n",
       "      <th>4</th>\n",
       "      <td>B00001071</td>\n",
       "      <td>1071.0</td>\n",
       "      <td>199920</td>\n",
       "      <td>200420.0</td>\n",
       "      <td>2004</td>\n",
       "      <td>Faculty of Management</td>\n",
       "      <td>Graduate</td>\n",
       "      <td>Masters</td>\n",
       "      <td>Master of Business Admin</td>\n",
       "      <td>Master of Business Admin</td>\n",
       "      <td>...</td>\n",
       "      <td>0</td>\n",
       "      <td>0</td>\n",
       "      <td>NaN</td>\n",
       "      <td>Winter</td>\n",
       "      <td>2004</td>\n",
       "      <td>0</td>\n",
       "      <td>0</td>\n",
       "      <td>0</td>\n",
       "      <td>0</td>\n",
       "      <td>0</td>\n",
       "    </tr>\n",
       "  </tbody>\n",
       "</table>\n",
       "<p>5 rows × 64 columns</p>\n",
       "</div>"
      ],
      "text/plain": [
       "   banner_id    pidm  admit_term_key  term_code  academic_year  \\\n",
       "0  B00001071  1071.0          199920   200020.0           2000   \n",
       "1  B00001071  1071.0          199920   200220.0           2002   \n",
       "2  B00001071  1071.0          199920   200310.0           2003   \n",
       "3  B00001071  1071.0          199920   200410.0           2004   \n",
       "4  B00001071  1071.0          199920   200420.0           2004   \n",
       "\n",
       "           faculty_title levl_desc level_group               degree_desc  \\\n",
       "0  Faculty of Management  Graduate     Masters  Master of Business Admin   \n",
       "1  Faculty of Management  Graduate     Masters  Master of Business Admin   \n",
       "2  Faculty of Management  Graduate     Masters  Master of Business Admin   \n",
       "3  Faculty of Management  Graduate     Masters  Master of Business Admin   \n",
       "4  Faculty of Management  Graduate     Masters  Master of Business Admin   \n",
       "\n",
       "               program_desc  ...  lived_in_residence_once is_graduated_ind  \\\n",
       "0  Master of Business Admin  ...                        0                0   \n",
       "1  Master of Business Admin  ...                        0                0   \n",
       "2  Master of Business Admin  ...                        0                0   \n",
       "3  Master of Business Admin  ...                        0                0   \n",
       "4  Master of Business Admin  ...                        0                0   \n",
       "\n",
       "   high_school_rank    term calendar_year  has_dropped  \\\n",
       "0               NaN  Winter          2000            0   \n",
       "1               NaN  Winter          2002            0   \n",
       "2               NaN    Fall          2002            0   \n",
       "3               NaN    Fall          2003            0   \n",
       "4               NaN  Winter          2004            0   \n",
       "\n",
       "  count_of_high_risk_low_grades count_of_high_risk_withdrawals  \\\n",
       "0                             0                              0   \n",
       "1                             0                              0   \n",
       "2                             0                              0   \n",
       "3                             0                              0   \n",
       "4                             0                              0   \n",
       "\n",
       "  cum_high_risk_low_grades cum_high_risk_withdrawals  \n",
       "0                        0                         0  \n",
       "1                        0                         0  \n",
       "2                        0                         0  \n",
       "3                        0                         0  \n",
       "4                        0                         0  \n",
       "\n",
       "[5 rows x 64 columns]"
      ]
     },
     "execution_count": 35,
     "metadata": {},
     "output_type": "execute_result"
    }
   ],
   "source": [
    "df.head()"
   ]
  },
  {
   "cell_type": "code",
   "execution_count": 36,
   "id": "a28d45a5-1e1f-45cf-8e9d-11059b3a3891",
   "metadata": {
    "scrolled": true
   },
   "outputs": [
    {
     "name": "stdout",
     "output_type": "stream",
     "text": [
      "<class 'pandas.core.frame.DataFrame'>\n",
      "RangeIndex: 909616 entries, 0 to 909615\n",
      "Data columns (total 64 columns):\n",
      " #   Column                                         Non-Null Count   Dtype  \n",
      "---  ------                                         --------------   -----  \n",
      " 0   banner_id                                      909616 non-null  object \n",
      " 1   pidm                                           909616 non-null  float64\n",
      " 2   admit_term_key                                 909616 non-null  int64  \n",
      " 3   term_code                                      909616 non-null  float64\n",
      " 4   academic_year                                  909616 non-null  int64  \n",
      " 5   faculty_title                                  909616 non-null  object \n",
      " 6   levl_desc                                      909616 non-null  object \n",
      " 7   level_group                                    909616 non-null  object \n",
      " 8   degree_desc                                    909616 non-null  object \n",
      " 9   program_desc                                   839207 non-null  object \n",
      " 10  total_credit_hours                             909616 non-null  float64\n",
      " 11  time_status_code                               909605 non-null  object \n",
      " 12  overall_tgpa_eot                               900721 non-null  float64\n",
      " 13  varsity_ind                                    909616 non-null  int64  \n",
      " 14  class_desc                                     909607 non-null  object \n",
      " 15  age                                            909616 non-null  float64\n",
      " 16  country_desc                                   909500 non-null  object \n",
      " 17  province_desc                                  909098 non-null  object \n",
      " 18  major                                          909616 non-null  object \n",
      " 19  major_desc                                     909616 non-null  object \n",
      " 20  geo_region_desc                                909500 non-null  object \n",
      " 21  coop_ind                                       909616 non-null  int64  \n",
      " 22  csrde_ind                                      909616 non-null  int64  \n",
      " 23  next_term_code                                 670566 non-null  float64\n",
      " 24  gap                                            670566 non-null  float64\n",
      " 25  cohort_term                                    909616 non-null  int64  \n",
      " 26  cohort_faculty                                 909616 non-null  object \n",
      " 27  cohort_degree                                  909616 non-null  object \n",
      " 28  cohort_term_dal                                909616 non-null  int64  \n",
      " 29  cohort_faculty_dal                             909616 non-null  object \n",
      " 30  cohort_degree_dal                              909616 non-null  object \n",
      " 31  terms_since_admit                              909616 non-null  int64  \n",
      " 32  years_since_admit                              909616 non-null  float64\n",
      " 33  switched_to_part_time                          909616 non-null  int64  \n",
      " 34  second_choice_major                            105 non-null     object \n",
      " 35  female                                         908523 non-null  float64\n",
      " 36  racialized_person                              154431 non-null  float64\n",
      " 37  aboriginal_and_indigenous                      126097 non-null  float64\n",
      " 38  person_with_disabilities                       491236 non-null  float64\n",
      " 39  sexual_orientation_gender_identity_minorities  316912 non-null  float64\n",
      " 40  black_ancestry                                 121561 non-null  float64\n",
      " 41  black_nova_scotian_ancestry                    102164 non-null  float64\n",
      " 42  mikmaq                                         106060 non-null  float64\n",
      " 43  first_in_family                                69171 non-null   float64\n",
      " 44  international                                  909361 non-null  float64\n",
      " 45  household_income                               44820 non-null   object \n",
      " 46  english_mother_tongue                          69078 non-null   float64\n",
      " 47  gender                                         908460 non-null  object \n",
      " 48  urban_rural                                    755899 non-null  object \n",
      " 49  is_local_to_agriculture_campus                 755899 non-null  float64\n",
      " 50  is_local_to_dalhousie_campus                   755899 non-null  float64\n",
      " 51  fall_gpa                                       807031 non-null  float64\n",
      " 52  high_school_gpa                                909616 non-null  float64\n",
      " 53  high_school_grad_date                          529470 non-null  object \n",
      " 54  lived_in_residence_once                        909616 non-null  int64  \n",
      " 55  is_graduated_ind                               909616 non-null  int64  \n",
      " 56  high_school_rank                               678385 non-null  object \n",
      " 57  term                                           909616 non-null  object \n",
      " 58  calendar_year                                  909616 non-null  int64  \n",
      " 59  has_dropped                                    909616 non-null  int64  \n",
      " 60  count_of_high_risk_low_grades                  909616 non-null  int64  \n",
      " 61  count_of_high_risk_withdrawals                 909616 non-null  int64  \n",
      " 62  cum_high_risk_low_grades                       909616 non-null  int64  \n",
      " 63  cum_high_risk_withdrawals                      909616 non-null  int64  \n",
      "dtypes: float64(23), int64(17), object(24)\n",
      "memory usage: 444.1+ MB\n"
     ]
    }
   ],
   "source": [
    "df.info()"
   ]
  },
  {
   "cell_type": "code",
   "execution_count": 37,
   "id": "4ebe1c3c-ef6f-46fb-9df7-86d71c0491b7",
   "metadata": {},
   "outputs": [
    {
     "data": {
      "text/plain": [
       "has_dropped\n",
       "0    801903\n",
       "1    107713\n",
       "Name: count, dtype: int64"
      ]
     },
     "execution_count": 37,
     "metadata": {},
     "output_type": "execute_result"
    }
   ],
   "source": [
    "df['has_dropped'].value_counts()"
   ]
  },
  {
   "cell_type": "markdown",
   "id": "4c224cb5",
   "metadata": {},
   "source": [
    "## Data Analysis"
   ]
  },
  {
   "cell_type": "markdown",
   "id": "e8ba9f01-afdd-4d1d-8ea6-3c539bfbb5f5",
   "metadata": {},
   "source": [
    "### Use Correlation Matrix to find Relationships with Retention"
   ]
  },
  {
   "cell_type": "code",
   "execution_count": 38,
   "id": "10fbb7cb-d0c8-4507-8e05-e3cf1196a8f6",
   "metadata": {
    "scrolled": true
   },
   "outputs": [],
   "source": [
    "# Choose key variables\n",
    "num_vars = df.select_dtypes(include=['number'])\n",
    "num_vars.columns.tolist()\n",
    "key_num_vars = ['admit_term_key','academic_year','total_credit_hours','overall_tgpa_eot','varsity_ind','age','coop_ind','csrde_ind',\n",
    "                'gap','switched_to_part_time','female','racialized_person','aboriginal_and_indigenous','person_with_disabilities',\n",
    "                'sexual_orientation_gender_identity_minorities','black_ancestry','black_nova_scotian_ancestry','mikmaq','first_in_family',\n",
    "                'international','is_local_to_agriculture_campus','is_local_to_dalhousie_campus', 'fall_gpa','high_school_gpa',\n",
    "                'lived_in_residence_once','has_dropped','count_of_high_risk_low_grades','count_of_high_risk_withdrawals',\n",
    "                'cum_high_risk_low_grades','cum_high_risk_withdrawals']"
   ]
  },
  {
   "cell_type": "code",
   "execution_count": 39,
   "id": "ffa922e1-1460-456b-b424-1834024f43d0",
   "metadata": {},
   "outputs": [
    {
     "data": {
      "text/plain": [
       "gap                                             -0.315259\n",
       "csrde_ind                                       -0.067372\n",
       "age                                              0.066814\n",
       "admit_term_key                                  -0.055624\n",
       "total_credit_hours                              -0.050719\n",
       "academic_year                                   -0.038299\n",
       "lived_in_residence_once                         -0.037496\n",
       "aboriginal_and_indigenous                        0.024624\n",
       "switched_to_part_time                            0.022519\n",
       "coop_ind                                        -0.019094\n",
       "high_school_gpa                                 -0.016016\n",
       "count_of_high_risk_low_grades                   -0.015111\n",
       "is_local_to_dalhousie_campus                    -0.014148\n",
       "varsity_ind                                     -0.011909\n",
       "black_ancestry                                   0.011590\n",
       "overall_tgpa_eot                                -0.011107\n",
       "female                                           0.010271\n",
       "black_nova_scotian_ancestry                     -0.009565\n",
       "person_with_disabilities                        -0.009013\n",
       "cum_high_risk_withdrawals                        0.008921\n",
       "mikmaq                                           0.007112\n",
       "first_in_family                                  0.006899\n",
       "racialized_person                               -0.005373\n",
       "count_of_high_risk_withdrawals                   0.005217\n",
       "international                                    0.004196\n",
       "fall_gpa                                        -0.002275\n",
       "sexual_orientation_gender_identity_minorities   -0.001919\n",
       "cum_high_risk_low_grades                        -0.001770\n",
       "is_local_to_agriculture_campus                   0.000338\n",
       "Name: has_dropped, dtype: float64"
      ]
     },
     "execution_count": 39,
     "metadata": {},
     "output_type": "execute_result"
    }
   ],
   "source": [
    "# Generate the target correlation list\n",
    "cor_matrix = df[key_num_vars].corr()\n",
    "target_corr = cor_matrix['has_dropped'].drop('has_dropped').sort_values(key=lambda x: abs(x), ascending=False)\n",
    "target_corr"
   ]
  },
  {
   "cell_type": "code",
   "execution_count": 40,
   "id": "3a9fbe3f-5541-4e69-983f-4b7340c2bca9",
   "metadata": {
    "scrolled": true
   },
   "outputs": [
    {
     "data": {
      "image/png": "[encoded data removed]",
      "text/plain": [
       "<Figure size 400x800 with 2 Axes>"
      ]
     },
     "metadata": {},
     "output_type": "display_data"
    }
   ],
   "source": [
    "# Draw the heatmap\n",
    "plt.figure(figsize = (4,8))\n",
    "sns.heatmap(target_corr.to_frame(), cmap = 'coolwarm', center = 0, yticklabels=True)\n",
    "plt.title('Correlation with Retention')\n",
    "plt.show()"
   ]
  },
  {
   "cell_type": "markdown",
   "id": "fd2c32a0-d726-407d-a5cc-7f62f41b1a9b",
   "metadata": {},
   "source": [
    "Insights:\n",
    "\n",
    "-Gap (-0.315) showed the strongest negative correlation. This aligns with the intuition that a break in studies may signal disengagement or external challenges.\n",
    "\n",
    "-Other negatively correlated variables include:\n",
    "\n",
    "1.csrde_ind (-0.067):These students typically enter directly from high school and early in their academic journey.Their structured start may contribute to higher retention.\n",
    "\n",
    "2.total_credit_hours (-0.051):The more credits a student earns, the less likely they are to drop out.\n",
    "\n",
    "-Positively correlated variables suggest greater dropout risk:\n",
    "\n",
    "1.age (+0.067): Older students are slightly more at risk, possibly due to competing life responsibilities.\n",
    "\n",
    "2.Aboriginal_and_indigenous (+0.025) and switched_to_part_time (+0.023): These groups may face unique challenges and should be considered for additional support.\n",
    "\n",
    "3.cum_high_risk_withdrawals, count_of_high_risk_withdrawals, and low_grades show that academic struggles are key signals of dropout risk, and these groups should be provided with academic support."
   ]
  },
  {
   "cell_type": "markdown",
   "id": "f938d673-ef02-4605-9103-0c6dbace8c8b",
   "metadata": {},
   "source": [
    "### Find the Relationship Between Faculty and Retention"
   ]
  },
  {
   "cell_type": "code",
   "execution_count": 41,
   "id": "383eb0e2-7979-4375-b82b-64d7c9dbbb12",
   "metadata": {},
   "outputs": [
    {
     "data": {
      "text/plain": [
       "faculty_title\n",
       "Faculty of Science                196937\n",
       "Fac of Arts & Social Sciences     169286\n",
       "Faculty of Health                 145143\n",
       "Faculty of Management             108007\n",
       "Faculty of Engineering            103811\n",
       "Faculty of Computer Science        54814\n",
       "Faculty of Medicine                38591\n",
       "Faculty of Law                     23343\n",
       "Faculty of Agriculture             20290\n",
       "Fac of Architecture & Planning     19232\n",
       "School of Journalism                9018\n",
       "Faculty of Dentistry                8558\n",
       "Faculty of Graduate Studies         6365\n",
       "Interdisciplinary/Multi-Fac         6189\n",
       "School of Education                   32\n",
       "Name: count, dtype: int64"
      ]
     },
     "execution_count": 41,
     "metadata": {},
     "output_type": "execute_result"
    }
   ],
   "source": [
    "df['faculty_title'].value_counts()"
   ]
  },
  {
   "cell_type": "code",
   "execution_count": 42,
   "id": "5c7496af-4a65-489c-b7e8-79b43d8f46ac",
   "metadata": {},
   "outputs": [],
   "source": [
    "# A function that find the retention percentage across different attributes.\n",
    "def sorted_cross_tab(df,index_col,column_col):\n",
    "    cross_tab = pd.crosstab(df[index_col],df[column_col],normalize='index')*100\n",
    "    sorted_cross_tab = cross_tab.sort_values(by=1,ascending=False)\n",
    "    return sorted_cross_tab"
   ]
  },
  {
   "cell_type": "code",
   "execution_count": 43,
   "id": "ba16ff1c-4276-4c5a-8c16-2a85729961a6",
   "metadata": {},
   "outputs": [
    {
     "data": {
      "application/vnd.microsoft.datawrangler.viewer.v0+json": {
       "columns": [
        {
         "name": "faculty_title",
         "rawType": "object",
         "type": "string"
        },
        {
         "name": "0",
         "rawType": "float64",
         "type": "float"
        },
        {
         "name": "1",
         "rawType": "float64",
         "type": "float"
        }
       ],
       "conversionMethod": "pd.DataFrame",
       "ref": "0c379dbd-1f36-4832-b39e-8f7e227b047d",
       "rows": [
        [
         "School of Journalism",
         "78.95320470170769",
         "21.046795298292302"
        ],
        [
         "Faculty of Graduate Studies",
         "83.26787117046347",
         "16.732128829536528"
        ],
        [
         "Faculty of Law",
         "83.84098016536007",
         "16.159019834639935"
        ],
        [
         "Fac of Architecture & Planning",
         "84.82217138103162",
         "15.177828618968386"
        ],
        [
         "Fac of Arts & Social Sciences",
         "85.14939215292465",
         "14.850607847075365"
        ],
        [
         "Faculty of Agriculture",
         "85.79103006407097",
         "14.208969935929028"
        ],
        [
         "Faculty of Medicine",
         "87.1083931486616",
         "12.891606851338395"
        ],
        [
         "School of Education",
         "87.5",
         "12.5"
        ],
        [
         "Faculty of Health",
         "88.78278663111551",
         "11.21721336888448"
        ],
        [
         "Faculty of Management",
         "88.87479515216606",
         "11.125204847833936"
        ],
        [
         "Interdisciplinary/Multi-Fac",
         "89.3682339634836",
         "10.631766036516401"
        ],
        [
         "Faculty of Science",
         "89.61596855847301",
         "10.384031441526986"
        ],
        [
         "Faculty of Engineering",
         "89.92206991551956",
         "10.077930084480451"
        ],
        [
         "Faculty of Computer Science",
         "90.95486554529865",
         "9.045134454701353"
        ],
        [
         "Faculty of Dentistry",
         "97.28908623510166",
         "2.710913764898341"
        ]
       ],
       "shape": {
        "columns": 2,
        "rows": 15
       }
      },
      "text/html": [
       "<div>\n",
       "<style scoped>\n",
       "    .dataframe tbody tr th:only-of-type {\n",
       "        vertical-align: middle;\n",
       "    }\n",
       "\n",
       "    .dataframe tbody tr th {\n",
       "        vertical-align: top;\n",
       "    }\n",
       "\n",
       "    .dataframe thead th {\n",
       "        text-align: right;\n",
       "    }\n",
       "</style>\n",
       "<table border=\"1\" class=\"dataframe\">\n",
       "  <thead>\n",
       "    <tr style=\"text-align: right;\">\n",
       "      <th>has_dropped</th>\n",
       "      <th>0</th>\n",
       "      <th>1</th>\n",
       "    </tr>\n",
       "    <tr>\n",
       "      <th>faculty_title</th>\n",
       "      <th></th>\n",
       "      <th></th>\n",
       "    </tr>\n",
       "  </thead>\n",
       "  <tbody>\n",
       "    <tr>\n",
       "      <th>School of Journalism</th>\n",
       "      <td>78.953205</td>\n",
       "      <td>21.046795</td>\n",
       "    </tr>\n",
       "    <tr>\n",
       "      <th>Faculty of Graduate Studies</th>\n",
       "      <td>83.267871</td>\n",
       "      <td>16.732129</td>\n",
       "    </tr>\n",
       "    <tr>\n",
       "      <th>Faculty of Law</th>\n",
       "      <td>83.840980</td>\n",
       "      <td>16.159020</td>\n",
       "    </tr>\n",
       "    <tr>\n",
       "      <th>Fac of Architecture &amp; Planning</th>\n",
       "      <td>84.822171</td>\n",
       "      <td>15.177829</td>\n",
       "    </tr>\n",
       "    <tr>\n",
       "      <th>Fac of Arts &amp; Social Sciences</th>\n",
       "      <td>85.149392</td>\n",
       "      <td>14.850608</td>\n",
       "    </tr>\n",
       "    <tr>\n",
       "      <th>Faculty of Agriculture</th>\n",
       "      <td>85.791030</td>\n",
       "      <td>14.208970</td>\n",
       "    </tr>\n",
       "    <tr>\n",
       "      <th>Faculty of Medicine</th>\n",
       "      <td>87.108393</td>\n",
       "      <td>12.891607</td>\n",
       "    </tr>\n",
       "    <tr>\n",
       "      <th>School of Education</th>\n",
       "      <td>87.500000</td>\n",
       "      <td>12.500000</td>\n",
       "    </tr>\n",
       "    <tr>\n",
       "      <th>Faculty of Health</th>\n",
       "      <td>88.782787</td>\n",
       "      <td>11.217213</td>\n",
       "    </tr>\n",
       "    <tr>\n",
       "      <th>Faculty of Management</th>\n",
       "      <td>88.874795</td>\n",
       "      <td>11.125205</td>\n",
       "    </tr>\n",
       "    <tr>\n",
       "      <th>Interdisciplinary/Multi-Fac</th>\n",
       "      <td>89.368234</td>\n",
       "      <td>10.631766</td>\n",
       "    </tr>\n",
       "    <tr>\n",
       "      <th>Faculty of Science</th>\n",
       "      <td>89.615969</td>\n",
       "      <td>10.384031</td>\n",
       "    </tr>\n",
       "    <tr>\n",
       "      <th>Faculty of Engineering</th>\n",
       "      <td>89.922070</td>\n",
       "      <td>10.077930</td>\n",
       "    </tr>\n",
       "    <tr>\n",
       "      <th>Faculty of Computer Science</th>\n",
       "      <td>90.954866</td>\n",
       "      <td>9.045134</td>\n",
       "    </tr>\n",
       "    <tr>\n",
       "      <th>Faculty of Dentistry</th>\n",
       "      <td>97.289086</td>\n",
       "      <td>2.710914</td>\n",
       "    </tr>\n",
       "  </tbody>\n",
       "</table>\n",
       "</div>"
      ],
      "text/plain": [
       "has_dropped                             0          1\n",
       "faculty_title                                       \n",
       "School of Journalism            78.953205  21.046795\n",
       "Faculty of Graduate Studies     83.267871  16.732129\n",
       "Faculty of Law                  83.840980  16.159020\n",
       "Fac of Architecture & Planning  84.822171  15.177829\n",
       "Fac of Arts & Social Sciences   85.149392  14.850608\n",
       "Faculty of Agriculture          85.791030  14.208970\n",
       "Faculty of Medicine             87.108393  12.891607\n",
       "School of Education             87.500000  12.500000\n",
       "Faculty of Health               88.782787  11.217213\n",
       "Faculty of Management           88.874795  11.125205\n",
       "Interdisciplinary/Multi-Fac     89.368234  10.631766\n",
       "Faculty of Science              89.615969  10.384031\n",
       "Faculty of Engineering          89.922070  10.077930\n",
       "Faculty of Computer Science     90.954866   9.045134\n",
       "Faculty of Dentistry            97.289086   2.710914"
      ]
     },
     "execution_count": 43,
     "metadata": {},
     "output_type": "execute_result"
    }
   ],
   "source": [
    "faculty_retention = sorted_cross_tab(df, 'faculty_title', 'has_dropped')\n",
    "faculty_retention"
   ]
  },
  {
   "cell_type": "code",
   "execution_count": 44,
   "id": "de8543b1-bb99-4a96-9088-e20d7d4a56c9",
   "metadata": {},
   "outputs": [
    {
     "data": {
      "image/png": "[encoded data removed]",
      "text/plain": [
       "<Figure size 640x480 with 1 Axes>"
      ]
     },
     "metadata": {},
     "output_type": "display_data"
    }
   ],
   "source": [
    "# Use bar chart to show percentage of dropout rate across faculties\n",
    "faculty_retention = faculty_retention.rename(columns={1: 'dropout'})\n",
    "sns.barplot(x = 'faculty_title',y = 'dropout',data = faculty_retention)\n",
    "plt.xticks(rotation=90)\n",
    "plt.title('The Percentage of Dropout Rate across Faculties')\n",
    "plt.ylabel('Dropout Rate (%)')\n",
    "plt.xlabel('Faculty')\n",
    "plt.show()"
   ]
  },
  {
   "cell_type": "markdown",
   "id": "ef57599d-2927-4766-bafd-f058d4efb615",
   "metadata": {},
   "source": [
    "The bar chart shows school of journalism has the highest dropout rate. Next, using chi square test to identify whether the finding is significant."
   ]
  },
  {
   "cell_type": "code",
   "execution_count": 45,
   "id": "b08b3f0a-8ce9-47e4-b811-51dfdd25f403",
   "metadata": {},
   "outputs": [
    {
     "name": "stdout",
     "output_type": "stream",
     "text": [
      "P-value for switch to faculty vs. retention: 0.07294541336990057\n"
     ]
    }
   ],
   "source": [
    "chi2, p, dof, expected = chi2_contingency(faculty_retention)\n",
    "print(f\"P-value for switch to faculty vs. retention: {p}\")"
   ]
  },
  {
   "cell_type": "markdown",
   "id": "59a8c61e-99fe-4968-92f7-1060c3b54211",
   "metadata": {},
   "source": [
    "However, the p value is not significant in the chi test, possibly due to a small sample size(school of education)"
   ]
  },
  {
   "cell_type": "code",
   "execution_count": 46,
   "id": "f1d0fbfc-ff4d-4ccb-8863-5722ba4ce0a8",
   "metadata": {},
   "outputs": [
    {
     "name": "stdout",
     "output_type": "stream",
     "text": [
      "Optimization terminated successfully.\n",
      "         Current function value: 0.360960\n",
      "         Iterations 8\n",
      "                           Logit Regression Results                           \n",
      "==============================================================================\n",
      "Dep. Variable:            has_dropped   No. Observations:               909616\n",
      "Model:                          Logit   Df Residuals:                   909601\n",
      "Method:                           MLE   Df Model:                           14\n",
      "Date:                Fri, 09 May 2025   Pseudo R-squ.:                0.007688\n",
      "Time:                        14:55:04   Log-Likelihood:            -3.2834e+05\n",
      "converged:                       True   LL-Null:                   -3.3088e+05\n",
      "Covariance Type:            nonrobust   LLR p-value:                     0.000\n",
      "=====================================================================================================================\n",
      "                                                        coef    std err          z      P>|z|      [0.025      0.975]\n",
      "---------------------------------------------------------------------------------------------------------------------\n",
      "Intercept                                            -1.7207      0.020    -85.621      0.000      -1.760      -1.681\n",
      "C(faculty_title)[T.Fac of Arts & Social Sciences]    -0.0256      0.021     -1.208      0.227      -0.067       0.016\n",
      "C(faculty_title)[T.Faculty of Agriculture]           -0.0773      0.028     -2.720      0.007      -0.133      -0.022\n",
      "C(faculty_title)[T.Faculty of Computer Science]      -0.5874      0.025    -23.485      0.000      -0.636      -0.538\n",
      "C(faculty_title)[T.Faculty of Dentistry]             -1.8597      0.070    -26.747      0.000      -1.996      -1.723\n",
      "C(faculty_title)[T.Faculty of Engineering]           -0.4679      0.023    -20.714      0.000      -0.512      -0.424\n",
      "C(faculty_title)[T.Faculty of Graduate Studies]       0.1160      0.039      2.964      0.003       0.039       0.193\n",
      "C(faculty_title)[T.Faculty of Health]                -0.3480      0.022    -16.001      0.000      -0.391      -0.305\n",
      "C(faculty_title)[T.Faculty of Law]                    0.0743      0.027      2.768      0.006       0.022       0.127\n",
      "C(faculty_title)[T.Faculty of Management]            -0.3573      0.022    -16.018      0.000      -0.401      -0.314\n",
      "C(faculty_title)[T.Faculty of Medicine]              -0.1899      0.025     -7.536      0.000      -0.239      -0.140\n",
      "C(faculty_title)[T.Faculty of Science]               -0.4345      0.021    -20.295      0.000      -0.477      -0.393\n",
      "C(faculty_title)[T.Interdisciplinary/Multi-Fac]      -0.4082      0.046     -8.898      0.000      -0.498      -0.318\n",
      "C(faculty_title)[T.School of Education]              -0.2252      0.535     -0.421      0.674      -1.274       0.823\n",
      "C(faculty_title)[T.School of Journalism]              0.3986      0.033     12.179      0.000       0.334       0.463\n",
      "=====================================================================================================================\n"
     ]
    }
   ],
   "source": [
    "# Use logistic regression instead of chi test.\n",
    "model = smf.logit('has_dropped ~ C(faculty_title)', data=df).fit()\n",
    "print(model.summary())"
   ]
  },
  {
   "cell_type": "markdown",
   "id": "dec2f1de-860a-41d1-b395-b167f64693bb",
   "metadata": {},
   "source": [
    "Insights:\n",
    "\n",
    "-Faculty of dentistry has the lowest dropout rate (coefficient = -1.86).\n",
    "\n",
    "-Faculty of computer science, engineering, health, and management also show significantly lower dropout.\n",
    "\n",
    "-Faculty of journalism has the highest dropout(coefficient = 0.3986).\n",
    "\n",
    "-School of education has a non-significant result (p = 0.674), possibly due to small sample size.\n",
    "\n",
    "-Pseudo R-squared is very low, need to combine analysis with other factors."
   ]
  },
  {
   "cell_type": "code",
   "execution_count": 47,
   "id": "caafef99-c009-4967-855f-25026065a73b",
   "metadata": {},
   "outputs": [],
   "source": [
    "# # Change coefficient to odds ratios to improve clarity.\n",
    "# odds_ratios = np.exp(model.params).sort_values(ascending = False)\n",
    "# print(odds_ratios)"
   ]
  },
  {
   "cell_type": "markdown",
   "id": "00db22d2",
   "metadata": {},
   "source": [
    "### Find the Relationship Between Gap and Retention"
   ]
  },
  {
   "cell_type": "code",
   "execution_count": 48,
   "id": "2cf63bb0-6a19-4dbf-8966-2eb24a5b8737",
   "metadata": {
    "scrolled": true
   },
   "outputs": [
    {
     "data": {
      "application/vnd.microsoft.datawrangler.viewer.v0+json": {
       "columns": [
        {
         "name": "gap",
         "rawType": "float64",
         "type": "float"
        },
        {
         "name": "0",
         "rawType": "float64",
         "type": "float"
        },
        {
         "name": "1",
         "rawType": "float64",
         "type": "float"
        }
       ],
       "conversionMethod": "pd.DataFrame",
       "ref": "84f9e508-273a-4cb8-8f6c-b99ecc7251c4",
       "rows": [
        [
         "0.0",
         "15.122959490910274",
         "84.87704050908972"
        ],
        [
         "19.0",
         "60.78431372549019",
         "39.21568627450981"
        ],
        [
         "16.0",
         "62.06896551724138",
         "37.93103448275862"
        ],
        [
         "22.0",
         "70.83333333333334",
         "29.166666666666668"
        ],
        [
         "13.0",
         "72.99270072992701",
         "27.00729927007299"
        ],
        [
         "18.0",
         "79.7752808988764",
         "20.224719101123593"
        ],
        [
         "31.0",
         "80.0",
         "20.0"
        ],
        [
         "15.0",
         "81.45695364238411",
         "18.543046357615893"
        ],
        [
         "25.0",
         "82.35294117647058",
         "17.647058823529413"
        ],
        [
         "21.0",
         "85.71428571428571",
         "14.285714285714285"
        ],
        [
         "12.0",
         "87.24137931034483",
         "12.758620689655173"
        ],
        [
         "10.0",
         "88.70292887029288",
         "11.297071129707113"
        ],
        [
         "9.0",
         "91.71779141104295",
         "8.282208588957054"
        ],
        [
         "24.0",
         "91.8918918918919",
         "8.108108108108109"
        ],
        [
         "33.0",
         "92.3076923076923",
         "7.6923076923076925"
        ],
        [
         "27.0",
         "94.73684210526315",
         "5.263157894736842"
        ],
        [
         "30.0",
         "95.23809523809523",
         "4.761904761904762"
        ],
        [
         "11.0",
         "96.47577092511013",
         "3.524229074889868"
        ],
        [
         "14.0",
         "96.5986394557823",
         "3.4013605442176873"
        ],
        [
         "7.0",
         "97.57174392935983",
         "2.4282560706401766"
        ],
        [
         "20.0",
         "97.67441860465115",
         "2.3255813953488373"
        ],
        [
         "8.0",
         "98.66888519134775",
         "1.3311148086522462"
        ],
        [
         "6.0",
         "98.91716296697346",
         "1.0828370330265296"
        ],
        [
         "4.0",
         "99.66311061201573",
         "0.3368893879842785"
        ],
        [
         "3.0",
         "99.89400463729712",
         "0.10599536270288175"
        ],
        [
         "5.0",
         "99.92942836979535",
         "0.07057163020465773"
        ],
        [
         "1.0",
         "99.94672666452131",
         "0.05327333547868931"
        ],
        [
         "2.0",
         "99.99949776253209",
         "0.0005022374679195818"
        ],
        [
         "17.0",
         "100.0",
         "0.0"
        ],
        [
         "26.0",
         "100.0",
         "0.0"
        ],
        [
         "23.0",
         "100.0",
         "0.0"
        ],
        [
         "29.0",
         "100.0",
         "0.0"
        ],
        [
         "28.0",
         "100.0",
         "0.0"
        ],
        [
         "32.0",
         "100.0",
         "0.0"
        ],
        [
         "34.0",
         "100.0",
         "0.0"
        ],
        [
         "35.0",
         "100.0",
         "0.0"
        ],
        [
         "36.0",
         "100.0",
         "0.0"
        ],
        [
         "37.0",
         "100.0",
         "0.0"
        ],
        [
         "38.0",
         "100.0",
         "0.0"
        ],
        [
         "39.0",
         "100.0",
         "0.0"
        ],
        [
         "40.0",
         "100.0",
         "0.0"
        ],
        [
         "41.0",
         "100.0",
         "0.0"
        ],
        [
         "42.0",
         "100.0",
         "0.0"
        ],
        [
         "43.0",
         "100.0",
         "0.0"
        ],
        [
         "44.0",
         "100.0",
         "0.0"
        ],
        [
         "45.0",
         "100.0",
         "0.0"
        ],
        [
         "47.0",
         "100.0",
         "0.0"
        ],
        [
         "48.0",
         "100.0",
         "0.0"
        ],
        [
         "49.0",
         "100.0",
         "0.0"
        ],
        [
         "51.0",
         "100.0",
         "0.0"
        ]
       ],
       "shape": {
        "columns": 2,
        "rows": 55
       }
      },
      "text/html": [
       "<div>\n",
       "<style scoped>\n",
       "    .dataframe tbody tr th:only-of-type {\n",
       "        vertical-align: middle;\n",
       "    }\n",
       "\n",
       "    .dataframe tbody tr th {\n",
       "        vertical-align: top;\n",
       "    }\n",
       "\n",
       "    .dataframe thead th {\n",
       "        text-align: right;\n",
       "    }\n",
       "</style>\n",
       "<table border=\"1\" class=\"dataframe\">\n",
       "  <thead>\n",
       "    <tr style=\"text-align: right;\">\n",
       "      <th>has_dropped</th>\n",
       "      <th>0</th>\n",
       "      <th>1</th>\n",
       "    </tr>\n",
       "    <tr>\n",
       "      <th>gap</th>\n",
       "      <th></th>\n",
       "      <th></th>\n",
       "    </tr>\n",
       "  </thead>\n",
       "  <tbody>\n",
       "    <tr>\n",
       "      <th>0.0</th>\n",
       "      <td>15.122959</td>\n",
       "      <td>84.877041</td>\n",
       "    </tr>\n",
       "    <tr>\n",
       "      <th>19.0</th>\n",
       "      <td>60.784314</td>\n",
       "      <td>39.215686</td>\n",
       "    </tr>\n",
       "    <tr>\n",
       "      <th>16.0</th>\n",
       "      <td>62.068966</td>\n",
       "      <td>37.931034</td>\n",
       "    </tr>\n",
       "    <tr>\n",
       "      <th>22.0</th>\n",
       "      <td>70.833333</td>\n",
       "      <td>29.166667</td>\n",
       "    </tr>\n",
       "    <tr>\n",
       "      <th>13.0</th>\n",
       "      <td>72.992701</td>\n",
       "      <td>27.007299</td>\n",
       "    </tr>\n",
       "    <tr>\n",
       "      <th>18.0</th>\n",
       "      <td>79.775281</td>\n",
       "      <td>20.224719</td>\n",
       "    </tr>\n",
       "    <tr>\n",
       "      <th>31.0</th>\n",
       "      <td>80.000000</td>\n",
       "      <td>20.000000</td>\n",
       "    </tr>\n",
       "    <tr>\n",
       "      <th>15.0</th>\n",
       "      <td>81.456954</td>\n",
       "      <td>18.543046</td>\n",
       "    </tr>\n",
       "    <tr>\n",
       "      <th>25.0</th>\n",
       "      <td>82.352941</td>\n",
       "      <td>17.647059</td>\n",
       "    </tr>\n",
       "    <tr>\n",
       "      <th>21.0</th>\n",
       "      <td>85.714286</td>\n",
       "      <td>14.285714</td>\n",
       "    </tr>\n",
       "    <tr>\n",
       "      <th>12.0</th>\n",
       "      <td>87.241379</td>\n",
       "      <td>12.758621</td>\n",
       "    </tr>\n",
       "    <tr>\n",
       "      <th>10.0</th>\n",
       "      <td>88.702929</td>\n",
       "      <td>11.297071</td>\n",
       "    </tr>\n",
       "    <tr>\n",
       "      <th>9.0</th>\n",
       "      <td>91.717791</td>\n",
       "      <td>8.282209</td>\n",
       "    </tr>\n",
       "    <tr>\n",
       "      <th>24.0</th>\n",
       "      <td>91.891892</td>\n",
       "      <td>8.108108</td>\n",
       "    </tr>\n",
       "    <tr>\n",
       "      <th>33.0</th>\n",
       "      <td>92.307692</td>\n",
       "      <td>7.692308</td>\n",
       "    </tr>\n",
       "    <tr>\n",
       "      <th>27.0</th>\n",
       "      <td>94.736842</td>\n",
       "      <td>5.263158</td>\n",
       "    </tr>\n",
       "    <tr>\n",
       "      <th>30.0</th>\n",
       "      <td>95.238095</td>\n",
       "      <td>4.761905</td>\n",
       "    </tr>\n",
       "    <tr>\n",
       "      <th>11.0</th>\n",
       "      <td>96.475771</td>\n",
       "      <td>3.524229</td>\n",
       "    </tr>\n",
       "    <tr>\n",
       "      <th>14.0</th>\n",
       "      <td>96.598639</td>\n",
       "      <td>3.401361</td>\n",
       "    </tr>\n",
       "    <tr>\n",
       "      <th>7.0</th>\n",
       "      <td>97.571744</td>\n",
       "      <td>2.428256</td>\n",
       "    </tr>\n",
       "    <tr>\n",
       "      <th>20.0</th>\n",
       "      <td>97.674419</td>\n",
       "      <td>2.325581</td>\n",
       "    </tr>\n",
       "    <tr>\n",
       "      <th>8.0</th>\n",
       "      <td>98.668885</td>\n",
       "      <td>1.331115</td>\n",
       "    </tr>\n",
       "    <tr>\n",
       "      <th>6.0</th>\n",
       "      <td>98.917163</td>\n",
       "      <td>1.082837</td>\n",
       "    </tr>\n",
       "    <tr>\n",
       "      <th>4.0</th>\n",
       "      <td>99.663111</td>\n",
       "      <td>0.336889</td>\n",
       "    </tr>\n",
       "    <tr>\n",
       "      <th>3.0</th>\n",
       "      <td>99.894005</td>\n",
       "      <td>0.105995</td>\n",
       "    </tr>\n",
       "    <tr>\n",
       "      <th>5.0</th>\n",
       "      <td>99.929428</td>\n",
       "      <td>0.070572</td>\n",
       "    </tr>\n",
       "    <tr>\n",
       "      <th>1.0</th>\n",
       "      <td>99.946727</td>\n",
       "      <td>0.053273</td>\n",
       "    </tr>\n",
       "    <tr>\n",
       "      <th>2.0</th>\n",
       "      <td>99.999498</td>\n",
       "      <td>0.000502</td>\n",
       "    </tr>\n",
       "    <tr>\n",
       "      <th>17.0</th>\n",
       "      <td>100.000000</td>\n",
       "      <td>0.000000</td>\n",
       "    </tr>\n",
       "    <tr>\n",
       "      <th>26.0</th>\n",
       "      <td>100.000000</td>\n",
       "      <td>0.000000</td>\n",
       "    </tr>\n",
       "    <tr>\n",
       "      <th>23.0</th>\n",
       "      <td>100.000000</td>\n",
       "      <td>0.000000</td>\n",
       "    </tr>\n",
       "    <tr>\n",
       "      <th>29.0</th>\n",
       "      <td>100.000000</td>\n",
       "      <td>0.000000</td>\n",
       "    </tr>\n",
       "    <tr>\n",
       "      <th>28.0</th>\n",
       "      <td>100.000000</td>\n",
       "      <td>0.000000</td>\n",
       "    </tr>\n",
       "    <tr>\n",
       "      <th>32.0</th>\n",
       "      <td>100.000000</td>\n",
       "      <td>0.000000</td>\n",
       "    </tr>\n",
       "    <tr>\n",
       "      <th>34.0</th>\n",
       "      <td>100.000000</td>\n",
       "      <td>0.000000</td>\n",
       "    </tr>\n",
       "    <tr>\n",
       "      <th>35.0</th>\n",
       "      <td>100.000000</td>\n",
       "      <td>0.000000</td>\n",
       "    </tr>\n",
       "    <tr>\n",
       "      <th>36.0</th>\n",
       "      <td>100.000000</td>\n",
       "      <td>0.000000</td>\n",
       "    </tr>\n",
       "    <tr>\n",
       "      <th>37.0</th>\n",
       "      <td>100.000000</td>\n",
       "      <td>0.000000</td>\n",
       "    </tr>\n",
       "    <tr>\n",
       "      <th>38.0</th>\n",
       "      <td>100.000000</td>\n",
       "      <td>0.000000</td>\n",
       "    </tr>\n",
       "    <tr>\n",
       "      <th>39.0</th>\n",
       "      <td>100.000000</td>\n",
       "      <td>0.000000</td>\n",
       "    </tr>\n",
       "    <tr>\n",
       "      <th>40.0</th>\n",
       "      <td>100.000000</td>\n",
       "      <td>0.000000</td>\n",
       "    </tr>\n",
       "    <tr>\n",
       "      <th>41.0</th>\n",
       "      <td>100.000000</td>\n",
       "      <td>0.000000</td>\n",
       "    </tr>\n",
       "    <tr>\n",
       "      <th>42.0</th>\n",
       "      <td>100.000000</td>\n",
       "      <td>0.000000</td>\n",
       "    </tr>\n",
       "    <tr>\n",
       "      <th>43.0</th>\n",
       "      <td>100.000000</td>\n",
       "      <td>0.000000</td>\n",
       "    </tr>\n",
       "    <tr>\n",
       "      <th>44.0</th>\n",
       "      <td>100.000000</td>\n",
       "      <td>0.000000</td>\n",
       "    </tr>\n",
       "    <tr>\n",
       "      <th>45.0</th>\n",
       "      <td>100.000000</td>\n",
       "      <td>0.000000</td>\n",
       "    </tr>\n",
       "    <tr>\n",
       "      <th>47.0</th>\n",
       "      <td>100.000000</td>\n",
       "      <td>0.000000</td>\n",
       "    </tr>\n",
       "    <tr>\n",
       "      <th>48.0</th>\n",
       "      <td>100.000000</td>\n",
       "      <td>0.000000</td>\n",
       "    </tr>\n",
       "    <tr>\n",
       "      <th>49.0</th>\n",
       "      <td>100.000000</td>\n",
       "      <td>0.000000</td>\n",
       "    </tr>\n",
       "    <tr>\n",
       "      <th>51.0</th>\n",
       "      <td>100.000000</td>\n",
       "      <td>0.000000</td>\n",
       "    </tr>\n",
       "    <tr>\n",
       "      <th>53.0</th>\n",
       "      <td>100.000000</td>\n",
       "      <td>0.000000</td>\n",
       "    </tr>\n",
       "    <tr>\n",
       "      <th>55.0</th>\n",
       "      <td>100.000000</td>\n",
       "      <td>0.000000</td>\n",
       "    </tr>\n",
       "    <tr>\n",
       "      <th>57.0</th>\n",
       "      <td>100.000000</td>\n",
       "      <td>0.000000</td>\n",
       "    </tr>\n",
       "    <tr>\n",
       "      <th>65.0</th>\n",
       "      <td>100.000000</td>\n",
       "      <td>0.000000</td>\n",
       "    </tr>\n",
       "    <tr>\n",
       "      <th>66.0</th>\n",
       "      <td>100.000000</td>\n",
       "      <td>0.000000</td>\n",
       "    </tr>\n",
       "  </tbody>\n",
       "</table>\n",
       "</div>"
      ],
      "text/plain": [
       "has_dropped           0          1\n",
       "gap                               \n",
       "0.0           15.122959  84.877041\n",
       "19.0          60.784314  39.215686\n",
       "16.0          62.068966  37.931034\n",
       "22.0          70.833333  29.166667\n",
       "13.0          72.992701  27.007299\n",
       "18.0          79.775281  20.224719\n",
       "31.0          80.000000  20.000000\n",
       "15.0          81.456954  18.543046\n",
       "25.0          82.352941  17.647059\n",
       "21.0          85.714286  14.285714\n",
       "12.0          87.241379  12.758621\n",
       "10.0          88.702929  11.297071\n",
       "9.0           91.717791   8.282209\n",
       "24.0          91.891892   8.108108\n",
       "33.0          92.307692   7.692308\n",
       "27.0          94.736842   5.263158\n",
       "30.0          95.238095   4.761905\n",
       "11.0          96.475771   3.524229\n",
       "14.0          96.598639   3.401361\n",
       "7.0           97.571744   2.428256\n",
       "20.0          97.674419   2.325581\n",
       "8.0           98.668885   1.331115\n",
       "6.0           98.917163   1.082837\n",
       "4.0           99.663111   0.336889\n",
       "3.0           99.894005   0.105995\n",
       "5.0           99.929428   0.070572\n",
       "1.0           99.946727   0.053273\n",
       "2.0           99.999498   0.000502\n",
       "17.0         100.000000   0.000000\n",
       "26.0         100.000000   0.000000\n",
       "23.0         100.000000   0.000000\n",
       "29.0         100.000000   0.000000\n",
       "28.0         100.000000   0.000000\n",
       "32.0         100.000000   0.000000\n",
       "34.0         100.000000   0.000000\n",
       "35.0         100.000000   0.000000\n",
       "36.0         100.000000   0.000000\n",
       "37.0         100.000000   0.000000\n",
       "38.0         100.000000   0.000000\n",
       "39.0         100.000000   0.000000\n",
       "40.0         100.000000   0.000000\n",
       "41.0         100.000000   0.000000\n",
       "42.0         100.000000   0.000000\n",
       "43.0         100.000000   0.000000\n",
       "44.0         100.000000   0.000000\n",
       "45.0         100.000000   0.000000\n",
       "47.0         100.000000   0.000000\n",
       "48.0         100.000000   0.000000\n",
       "49.0         100.000000   0.000000\n",
       "51.0         100.000000   0.000000\n",
       "53.0         100.000000   0.000000\n",
       "55.0         100.000000   0.000000\n",
       "57.0         100.000000   0.000000\n",
       "65.0         100.000000   0.000000\n",
       "66.0         100.000000   0.000000"
      ]
     },
     "execution_count": 48,
     "metadata": {},
     "output_type": "execute_result"
    }
   ],
   "source": [
    "gap_retention = sorted_cross_tab(df, 'gap', 'has_dropped')\n",
    "gap_retention"
   ]
  },
  {
   "cell_type": "code",
   "execution_count": 49,
   "id": "53d0ccee-5b3f-48b7-8305-9c417b4b16a7",
   "metadata": {},
   "outputs": [
    {
     "name": "stdout",
     "output_type": "stream",
     "text": [
      "P-value for gap vs. retention: 0.0\n"
     ]
    }
   ],
   "source": [
    "chi2, p, dof, expected = chi2_contingency(gap_retention)\n",
    "print(f\"P-value for gap vs. retention: {p}\")"
   ]
  },
  {
   "cell_type": "code",
   "execution_count": 50,
   "id": "00b190af-ef63-4f8c-8ef1-28c928acd5e4",
   "metadata": {},
   "outputs": [
    {
     "name": "stdout",
     "output_type": "stream",
     "text": [
      "Optimization terminated successfully.\n",
      "         Current function value: 0.085598\n",
      "         Iterations 10\n",
      "                           Logit Regression Results                           \n",
      "==============================================================================\n",
      "Dep. Variable:            has_dropped   No. Observations:               670566\n",
      "Model:                          Logit   Df Residuals:                   670564\n",
      "Method:                           MLE   Df Model:                            1\n",
      "Date:                Fri, 09 May 2025   Pseudo R-squ.:                  0.6892\n",
      "Time:                        14:55:07   Log-Likelihood:                -57399.\n",
      "converged:                       True   LL-Null:                   -1.8467e+05\n",
      "Covariance Type:            nonrobust   LLR p-value:                     0.000\n",
      "==============================================================================\n",
      "                 coef    std err          z      P>|z|      [0.025      0.975]\n",
      "------------------------------------------------------------------------------\n",
      "Intercept      1.2765      0.010    130.730      0.000       1.257       1.296\n",
      "gap           -5.6349      0.018   -320.229      0.000      -5.669      -5.600\n",
      "==============================================================================\n",
      "\n",
      "Possibly complete quasi-separation: A fraction 0.36 of observations can be\n",
      "perfectly predicted. This might indicate that there is complete\n",
      "quasi-separation. In this case some parameters will not be identified.\n"
     ]
    }
   ],
   "source": [
    "model = smf.logit('has_dropped ~ gap', data=df).fit()\n",
    "print(model.summary())"
   ]
  },
  {
   "cell_type": "markdown",
   "id": "53750524-83dc-4756-a77c-3a69459b7014",
   "metadata": {},
   "source": [
    "Insights:\n",
    "\n",
    "-The gap has a strong and significant effect on dropout (p < 0.001), and the model explains the data well (Pseudo R-squared = 0.689). As the gap increases by one unit, the chance of dropping out goes down.\n",
    "\n",
    "-But combined with crosstab, when the gap is zero, the dropout rate is very high (over 80%), possibly because these students already gave up and never came back. \n",
    "\n",
    "-Need to include more variables in the model to make prediction and identify high risk groups. And with these insights, we can support timely human interventions."
   ]
  },
  {
   "cell_type": "markdown",
   "id": "5487e84b-2688-4976-b480-9f2a0106583b",
   "metadata": {},
   "source": [
    "### Explore How Other Factors that Influence Retention"
   ]
  },
  {
   "cell_type": "code",
   "execution_count": 51,
   "id": "f11a623b-bd95-413c-9901-19415306e425",
   "metadata": {},
   "outputs": [
    {
     "data": {
      "application/vnd.microsoft.datawrangler.viewer.v0+json": {
       "columns": [
        {
         "name": "lived_in_residence_once",
         "rawType": "int64",
         "type": "integer"
        },
        {
         "name": "0",
         "rawType": "float64",
         "type": "float"
        },
        {
         "name": "1",
         "rawType": "float64",
         "type": "float"
        }
       ],
       "conversionMethod": "pd.DataFrame",
       "ref": "015ec378-d253-424d-b0e9-28b8558e666d",
       "rows": [
        [
         "0",
         "87.65154441276661",
         "12.348455587233389"
        ],
        [
         "1",
         "91.0540726035586",
         "8.945927396441407"
        ]
       ],
       "shape": {
        "columns": 2,
        "rows": 2
       }
      },
      "text/html": [
       "<div>\n",
       "<style scoped>\n",
       "    .dataframe tbody tr th:only-of-type {\n",
       "        vertical-align: middle;\n",
       "    }\n",
       "\n",
       "    .dataframe tbody tr th {\n",
       "        vertical-align: top;\n",
       "    }\n",
       "\n",
       "    .dataframe thead th {\n",
       "        text-align: right;\n",
       "    }\n",
       "</style>\n",
       "<table border=\"1\" class=\"dataframe\">\n",
       "  <thead>\n",
       "    <tr style=\"text-align: right;\">\n",
       "      <th>has_dropped</th>\n",
       "      <th>0</th>\n",
       "      <th>1</th>\n",
       "    </tr>\n",
       "    <tr>\n",
       "      <th>lived_in_residence_once</th>\n",
       "      <th></th>\n",
       "      <th></th>\n",
       "    </tr>\n",
       "  </thead>\n",
       "  <tbody>\n",
       "    <tr>\n",
       "      <th>0</th>\n",
       "      <td>87.651544</td>\n",
       "      <td>12.348456</td>\n",
       "    </tr>\n",
       "    <tr>\n",
       "      <th>1</th>\n",
       "      <td>91.054073</td>\n",
       "      <td>8.945927</td>\n",
       "    </tr>\n",
       "  </tbody>\n",
       "</table>\n",
       "</div>"
      ],
      "text/plain": [
       "has_dropped                      0          1\n",
       "lived_in_residence_once                      \n",
       "0                        87.651544  12.348456\n",
       "1                        91.054073   8.945927"
      ]
     },
     "execution_count": 51,
     "metadata": {},
     "output_type": "execute_result"
    }
   ],
   "source": [
    "liveinred_retention = sorted_cross_tab(df, 'lived_in_residence_once', 'has_dropped')\n",
    "liveinred_retention"
   ]
  },
  {
   "cell_type": "code",
   "execution_count": 52,
   "id": "5ca7c15e-9c8a-4385-a208-b544c236db7a",
   "metadata": {},
   "outputs": [
    {
     "name": "stdout",
     "output_type": "stream",
     "text": [
      "P-value for live in residence vs. retention: 0.5817812819766335\n"
     ]
    }
   ],
   "source": [
    "chi2, p, dof, expected = chi2_contingency(liveinred_retention)\n",
    "print(f\"P-value for live in residence vs. retention: {p}\")"
   ]
  },
  {
   "cell_type": "code",
   "execution_count": 53,
   "id": "54123393-0df8-45c7-aac6-3b69de41dbb5",
   "metadata": {},
   "outputs": [
    {
     "data": {
      "application/vnd.microsoft.datawrangler.viewer.v0+json": {
       "columns": [
        {
         "name": "switched_to_part_time",
         "rawType": "int64",
         "type": "integer"
        },
        {
         "name": "0",
         "rawType": "float64",
         "type": "float"
        },
        {
         "name": "1",
         "rawType": "float64",
         "type": "float"
        }
       ],
       "conversionMethod": "pd.DataFrame",
       "ref": "555b39fc-6e63-4197-812d-24a2b4d6553e",
       "rows": [
        [
         "1",
         "84.51342666972688",
         "15.486573330273124"
        ],
        [
         "0",
         "88.30364900086882",
         "11.696350999131191"
        ]
       ],
       "shape": {
        "columns": 2,
        "rows": 2
       }
      },
      "text/html": [
       "<div>\n",
       "<style scoped>\n",
       "    .dataframe tbody tr th:only-of-type {\n",
       "        vertical-align: middle;\n",
       "    }\n",
       "\n",
       "    .dataframe tbody tr th {\n",
       "        vertical-align: top;\n",
       "    }\n",
       "\n",
       "    .dataframe thead th {\n",
       "        text-align: right;\n",
       "    }\n",
       "</style>\n",
       "<table border=\"1\" class=\"dataframe\">\n",
       "  <thead>\n",
       "    <tr style=\"text-align: right;\">\n",
       "      <th>has_dropped</th>\n",
       "      <th>0</th>\n",
       "      <th>1</th>\n",
       "    </tr>\n",
       "    <tr>\n",
       "      <th>switched_to_part_time</th>\n",
       "      <th></th>\n",
       "      <th></th>\n",
       "    </tr>\n",
       "  </thead>\n",
       "  <tbody>\n",
       "    <tr>\n",
       "      <th>1</th>\n",
       "      <td>84.513427</td>\n",
       "      <td>15.486573</td>\n",
       "    </tr>\n",
       "    <tr>\n",
       "      <th>0</th>\n",
       "      <td>88.303649</td>\n",
       "      <td>11.696351</td>\n",
       "    </tr>\n",
       "  </tbody>\n",
       "</table>\n",
       "</div>"
      ],
      "text/plain": [
       "has_dropped                    0          1\n",
       "switched_to_part_time                      \n",
       "1                      84.513427  15.486573\n",
       "0                      88.303649  11.696351"
      ]
     },
     "execution_count": 53,
     "metadata": {},
     "output_type": "execute_result"
    }
   ],
   "source": [
    "full_parttime_retention = sorted_cross_tab(df, 'switched_to_part_time', 'has_dropped')\n",
    "full_parttime_retention"
   ]
  },
  {
   "cell_type": "code",
   "execution_count": 54,
   "id": "84828aa2-e2ca-441c-a0e2-5dc6edd6c299",
   "metadata": {},
   "outputs": [
    {
     "name": "stdout",
     "output_type": "stream",
     "text": [
      "P-value for switch to part-time vs. retention: 0.5648034892555629\n"
     ]
    }
   ],
   "source": [
    "chi2, p, dof, expected = chi2_contingency(full_parttime_retention)\n",
    "print(f\"P-value for switch to part-time vs. retention: {p}\")"
   ]
  },
  {
   "cell_type": "code",
   "execution_count": 55,
   "id": "007abc05-cfaa-4642-bac5-c292b2b60d3a",
   "metadata": {},
   "outputs": [
    {
     "data": {
      "application/vnd.microsoft.datawrangler.viewer.v0+json": {
       "columns": [
        {
         "name": "urban_rural",
         "rawType": "object",
         "type": "string"
        },
        {
         "name": "0",
         "rawType": "float64",
         "type": "float"
        },
        {
         "name": "1",
         "rawType": "float64",
         "type": "float"
        }
       ],
       "conversionMethod": "pd.DataFrame",
       "ref": "58816dc4-bad2-4773-981c-4c63d78ab163",
       "rows": [
        [
         "urban",
         "88.32940646686555",
         "11.670593533134443"
        ],
        [
         "rural",
         "88.38823687310796",
         "11.611763126892047"
        ]
       ],
       "shape": {
        "columns": 2,
        "rows": 2
       }
      },
      "text/html": [
       "<div>\n",
       "<style scoped>\n",
       "    .dataframe tbody tr th:only-of-type {\n",
       "        vertical-align: middle;\n",
       "    }\n",
       "\n",
       "    .dataframe tbody tr th {\n",
       "        vertical-align: top;\n",
       "    }\n",
       "\n",
       "    .dataframe thead th {\n",
       "        text-align: right;\n",
       "    }\n",
       "</style>\n",
       "<table border=\"1\" class=\"dataframe\">\n",
       "  <thead>\n",
       "    <tr style=\"text-align: right;\">\n",
       "      <th>has_dropped</th>\n",
       "      <th>0</th>\n",
       "      <th>1</th>\n",
       "    </tr>\n",
       "    <tr>\n",
       "      <th>urban_rural</th>\n",
       "      <th></th>\n",
       "      <th></th>\n",
       "    </tr>\n",
       "  </thead>\n",
       "  <tbody>\n",
       "    <tr>\n",
       "      <th>urban</th>\n",
       "      <td>88.329406</td>\n",
       "      <td>11.670594</td>\n",
       "    </tr>\n",
       "    <tr>\n",
       "      <th>rural</th>\n",
       "      <td>88.388237</td>\n",
       "      <td>11.611763</td>\n",
       "    </tr>\n",
       "  </tbody>\n",
       "</table>\n",
       "</div>"
      ],
      "text/plain": [
       "has_dropped          0          1\n",
       "urban_rural                      \n",
       "urban        88.329406  11.670594\n",
       "rural        88.388237  11.611763"
      ]
     },
     "execution_count": 55,
     "metadata": {},
     "output_type": "execute_result"
    }
   ],
   "source": [
    "urban_rural_retention = sorted_cross_tab(df, 'urban_rural', 'has_dropped')\n",
    "urban_rural_retention"
   ]
  },
  {
   "cell_type": "code",
   "execution_count": 56,
   "id": "929cc49e-a01b-49b5-b1fe-76ee90c538af",
   "metadata": {},
   "outputs": [
    {
     "name": "stdout",
     "output_type": "stream",
     "text": [
      "P-value for urban or rural vs. retention: 1.0\n"
     ]
    }
   ],
   "source": [
    "chi2, p, dof, expected = chi2_contingency(urban_rural_retention)\n",
    "print(f\"P-value for urban or rural vs. retention: {p}\")"
   ]
  },
  {
   "cell_type": "markdown",
   "id": "d9395d39",
   "metadata": {},
   "source": [
    "## Next Steps"
   ]
  },
  {
   "cell_type": "markdown",
   "id": "d76aa849",
   "metadata": {},
   "source": [
    "-Use Power BI to visualize insights interactively.\n",
    "\n",
    "-Identify combined risk factors across faculties.\n",
    "\n",
    "-Explore impact of gap and find out the best time for human intervention.\n",
    "\n",
    "-Segment students for intervention with predictive models.\n",
    "\n",
    "-Break yearly retention into term retention and consider adding time series elements to identify students at risk during a term.\n",
    "\n",
    "-Identify other factors which may impact retention."
   ]
  }
 ],
 "metadata": {
  "kernelspec": {
   "display_name": "Python 3",
   "language": "python",
   "name": "python3"
  },
  "language_info": {
   "codemirror_mode": {
    "name": "ipython",
    "version": 3
   },
   "file_extension": ".py",
   "mimetype": "text/x-python",
   "name": "python",
   "nbconvert_exporter": "python",
   "pygments_lexer": "ipython3",
   "version": "3.13.3"
  }
 },
 "nbformat": 4,
 "nbformat_minor": 5
}
